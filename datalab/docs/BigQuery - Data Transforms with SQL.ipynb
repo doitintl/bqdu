{
 "cells": [
  {
   "cell_type": "markdown",
   "metadata": {},
   "source": [
    "# BigQuery - Data Transforms with SQL\n",
    "\n",
    "This notebook demonstrates how you can run a SQL query within BigQuery and save the results into another table. This allows you to perform ETL-like tasks completely within BigQuery to prepare or clean data or to get it ready for further analysis and use.\n",
    "\n",
    "This notebook uses a sample dataset of request logs data from a web server.\n",
    "\n",
    "Related Links:\n",
    "\n",
    "* [BigQuery](https://cloud.google.com/bigquery/)\n",
    "* BigQuery [SQL reference](https://cloud.google.com/bigquery/query-reference)\n",
    "\n",
    "----\n",
    "\n",
    "NOTE:\n",
    "\n",
    "* If you're new to notebooks, or want to check out additional samples, check out the full [list](..) of notebooks."
   ]
  },
  {
   "cell_type": "code",
   "execution_count": 1,
   "metadata": {
    "collapsed": false
   },
   "outputs": [],
   "source": [
    "import gcp\n",
    "import gcp.bigquery as bq"
   ]
  },
  {
   "cell_type": "markdown",
   "metadata": {},
   "source": [
    "# Extract"
   ]
  },
  {
   "cell_type": "markdown",
   "metadata": {},
   "source": [
    "The source of data is logs with the following schema. Separate \"extract\" step of ETL is not required since the data is already in BigQuery."
   ]
  },
  {
   "cell_type": "code",
   "execution_count": 2,
   "metadata": {
    "collapsed": false
   },
   "outputs": [
    {
     "data": {
      "text/html": [
       "\n",
       "    <div class=\"bqsv\" id=\"1_144277942936\"></div>\n",
       "    <script>\n",
       "      require(['extensions/bigquery', 'element!1_144277942936', 'style!/static/extensions/bigquery.css'],\n",
       "        function(bq, dom) {\n",
       "          bq.renderSchema(dom, [{\"type\": \"TIMESTAMP\", \"name\": \"timestamp\"}, {\"type\": \"INTEGER\", \"name\": \"latency\"}, {\"type\": \"INTEGER\", \"name\": \"status\"}, {\"type\": \"STRING\", \"name\": \"method\"}, {\"type\": \"STRING\", \"name\": \"endpoint\"}]);\n",
       "        }\n",
       "      );\n",
       "    </script>\n",
       "    "
      ],
      "text/plain": [
       "[{ 'name': 'timestamp', 'type': 'TIMESTAMP', 'mode':'None', 'description': 'None' },\n",
       " { 'name': 'latency', 'type': 'INTEGER', 'mode':'None', 'description': 'None' },\n",
       " { 'name': 'status', 'type': 'INTEGER', 'mode':'None', 'description': 'None' },\n",
       " { 'name': 'method', 'type': 'STRING', 'mode':'None', 'description': 'None' },\n",
       " { 'name': 'endpoint', 'type': 'STRING', 'mode':'None', 'description': 'None' }]"
      ]
     },
     "execution_count": 2,
     "metadata": {},
     "output_type": "execute_result"
    }
   ],
   "source": [
    "logs_table = bq.Table('cloud-datalab:sampledata.requestlogs_20140616')\n",
    "logs_table.schema"
   ]
  },
  {
   "cell_type": "markdown",
   "metadata": {},
   "source": [
    "# Transform"
   ]
  },
  {
   "cell_type": "markdown",
   "metadata": {},
   "source": [
    "This data needs to be shaped for the purpose of tracking errors and associated endpoints over time. In this simple example, we will use a query that filters out successful requests and projects out columns relevant for error tracking. For more complex transformations, see query composition and UDF sample notebooks."
   ]
  },
  {
   "cell_type": "code",
   "execution_count": 3,
   "metadata": {
    "collapsed": false
   },
   "outputs": [],
   "source": [
    "%%sql --module log_transform\n",
    "SELECT endpoint, method, status, timestamp\n",
    "FROM $logs_table\n",
    "WHERE status >= 400"
   ]
  },
  {
   "cell_type": "markdown",
   "metadata": {},
   "source": [
    "Let's test the query results before proceeding with loading of data"
   ]
  },
  {
   "cell_type": "code",
   "execution_count": 4,
   "metadata": {
    "collapsed": false
   },
   "outputs": [
    {
     "data": {
      "text/html": [
       "\n",
       "    <div class=\"bqtv\" id=\"2_144277943107\"></div>\n",
       "    <div><br />job_qgGtzsI7WQCnbdBcJ6fMusPRJr4 (0.9s,    69MB processed)<br />rows: 5</div>\n",
       "    <script>\n",
       "      require(['extensions/charting', 'element!2_144277943107', 'style!/static/extensions/charting.css'],\n",
       "        function(charts, dom) {\n",
       "          charts.render(dom,\n",
       "            {\n",
       "              chartStyle:\"table\",\n",
       "              dataName:\"data-studio-team:_eef39ef00620733d25c72cbcecf090a752c682e8.anon3ecb2aeaf9bf9cbd560e3300296791136cf24862\",\n",
       "              fields:\"endpoint,method,status,timestamp\",\n",
       "              totalRows:5,\n",
       "              rowsPerPage:25,\n",
       "            }, {}, {\"rows\": [{\"c\": [{\"v\": \"Interact3\"}, {\"v\": \"GET\"}, {\"v\": 500}, {\"v\": \"2014-06-16T19:12:42.300105\"}]}, {\"c\": [{\"v\": \"Interact3\"}, {\"v\": \"GET\"}, {\"v\": 500}, {\"v\": \"2014-06-16T19:12:43.743248\"}]}, {\"c\": [{\"v\": \"Interact3\"}, {\"v\": \"GET\"}, {\"v\": 500}, {\"v\": \"2014-06-16T19:12:44.076436\"}]}, {\"c\": [{\"v\": \"Interact3\"}, {\"v\": \"GET\"}, {\"v\": 500}, {\"v\": \"2014-06-16T19:12:44.192970\"}]}, {\"c\": [{\"v\": \"Interact3\"}, {\"v\": \"GET\"}, {\"v\": 500}, {\"v\": \"2014-06-16T19:12:44.250040\"}]}], \"cols\": [{\"type\": \"string\", \"id\": \"endpoint\", \"label\": \"endpoint\"}, {\"type\": \"string\", \"id\": \"method\", \"label\": \"method\"}, {\"type\": \"number\", \"id\": \"status\", \"label\": \"status\"}, {\"type\": \"datetime\", \"id\": \"timestamp\", \"label\": \"timestamp\"}]});\n",
       "        }\n",
       "      );\n",
       "    </script>\n",
       "  "
      ],
      "text/plain": []
     },
     "execution_count": 4,
     "metadata": {},
     "output_type": "execute_result"
    }
   ],
   "source": [
    "query = bq.Query(log_transform, logs_table=logs_table)\n",
    "query.sample()"
   ]
  },
  {
   "cell_type": "markdown",
   "metadata": {},
   "source": [
    "# Load"
   ]
  },
  {
   "cell_type": "markdown",
   "metadata": {},
   "source": [
    "Let us create a dataset in the current project. This is an idempotent operation and returns the dataset if it already exists."
   ]
  },
  {
   "cell_type": "code",
   "execution_count": 5,
   "metadata": {
    "collapsed": false
   },
   "outputs": [],
   "source": [
    "target_ds = bq.DataSet('output').create()"
   ]
  },
  {
   "cell_type": "markdown",
   "metadata": {},
   "source": [
    "A new dataset is created in the current project for the output. You can cross-check that using BigQuery console. Next step is to execute the log_transform query and directly load the results into a BigQuery table in the newly created dataset. For idempotence, we specify that the table should be overwritten if it exists. We use the execute_async method which returns a job that we then wait on."
   ]
  },
  {
   "cell_type": "code",
   "execution_count": 6,
   "metadata": {
    "collapsed": false
   },
   "outputs": [
    {
     "data": {
      "text/plain": [
       "Job job_mXbMEeuqcpST2_07_PWOKM7SGHM completed"
      ]
     },
     "execution_count": 6,
     "metadata": {},
     "output_type": "execute_result"
    }
   ],
   "source": [
    "job = query.execute_async('output.transformedlogs_20140616', table_mode='overwrite')\n",
    "job.wait()"
   ]
  },
  {
   "cell_type": "markdown",
   "metadata": {},
   "source": [
    "Job completion time will depend on how much data is being processed. The following check is important to run to see if there were any errors when running the job:"
   ]
  },
  {
   "cell_type": "code",
   "execution_count": 7,
   "metadata": {
    "collapsed": false
   },
   "outputs": [],
   "source": [
    "job.errors"
   ]
  },
  {
   "cell_type": "code",
   "execution_count": 8,
   "metadata": {
    "collapsed": false
   },
   "outputs": [
    {
     "data": {
      "text/html": [
       "\n",
       "    <div class=\"bqtv\" id=\"3_144277944377\"></div>\n",
       "    <div><br />job_FAJXm3v_l-TWXFBJZab8P2gWjBc (2.3s,     2MB processed)<br />rows: 5</div>\n",
       "    <script>\n",
       "      require(['extensions/charting', 'element!3_144277944377', 'style!/static/extensions/charting.css'],\n",
       "        function(charts, dom) {\n",
       "          charts.render(dom,\n",
       "            {\n",
       "              chartStyle:\"table\",\n",
       "              dataName:\"data-studio-team:_eef39ef00620733d25c72cbcecf090a752c682e8.anon34f1a4e4637fc3dba708e3e1621fb26090726fc2\",\n",
       "              fields:\"endpoint,method,status,timestamp\",\n",
       "              totalRows:5,\n",
       "              rowsPerPage:25,\n",
       "            }, {}, {\"rows\": [{\"c\": [{\"v\": \"Interact3\"}, {\"v\": \"GET\"}, {\"v\": 500}, {\"v\": \"2014-06-16T23:20:31.672194\"}]}, {\"c\": [{\"v\": \"Interact3\"}, {\"v\": \"GET\"}, {\"v\": 500}, {\"v\": \"2014-06-16T23:20:31.729685\"}]}, {\"c\": [{\"v\": \"Interact3\"}, {\"v\": \"GET\"}, {\"v\": 403}, {\"v\": \"2014-06-16T23:20:31.844348\"}]}, {\"c\": [{\"v\": \"Interact3\"}, {\"v\": \"GET\"}, {\"v\": 500}, {\"v\": \"2014-06-16T23:20:31.961416\"}]}, {\"c\": [{\"v\": \"Interact3\"}, {\"v\": \"GET\"}, {\"v\": 500}, {\"v\": \"2014-06-16T23:20:32.645598\"}]}], \"cols\": [{\"type\": \"string\", \"id\": \"endpoint\", \"label\": \"endpoint\"}, {\"type\": \"string\", \"id\": \"method\", \"label\": \"method\"}, {\"type\": \"number\", \"id\": \"status\", \"label\": \"status\"}, {\"type\": \"datetime\", \"id\": \"timestamp\", \"label\": \"timestamp\"}]});\n",
       "        }\n",
       "      );\n",
       "    </script>\n",
       "  "
      ],
      "text/plain": []
     },
     "execution_count": 8,
     "metadata": {},
     "output_type": "execute_result"
    }
   ],
   "source": [
    "%%sql\n",
    "SELECT *\n",
    "FROM [output.transformedlogs_20140616]\n",
    "LIMIT 5"
   ]
  },
  {
   "cell_type": "code",
   "execution_count": null,
   "metadata": {
    "collapsed": false
   },
   "outputs": [],
   "source": []
  }
 ],
 "metadata": {
  "kernelspec": {
   "display_name": "Python 2",
   "language": "python",
   "name": "python2"
  },
  "language_info": {
   "codemirror_mode": {
    "name": "ipython",
    "version": 2
   },
   "file_extension": ".py",
   "mimetype": "text/x-python",
   "name": "python",
   "nbconvert_exporter": "python",
   "pygments_lexer": "ipython2",
   "version": "2.7.9"
  }
 },
 "nbformat": 4,
 "nbformat_minor": 0
}
