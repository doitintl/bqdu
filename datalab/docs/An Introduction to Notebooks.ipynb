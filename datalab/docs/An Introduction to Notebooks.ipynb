{
 "cells": [
  {
   "cell_type": "markdown",
   "metadata": {},
   "source": [
    "# An Introduction to Notebooks\n",
    "\n",
    "This meta-notebook introduces the notebook metaphor introduced by [IPython](http://ipython.org) and some core concepts to get you started, if you haven't used IPython or IPython notebooks before.\n",
    "\n",
    "----"
   ]
  },
  {
   "cell_type": "markdown",
   "metadata": {},
   "source": [
    "# Core Concepts"
   ]
  },
  {
   "cell_type": "markdown",
   "metadata": {},
   "source": [
    "A _notebook_ is essentially a web document - it can contain descriptive text (authored as markdown, and rendered as HTML as seen here), executable code snippets, and associated results (also rendered as HTML, and fully interactive).\n",
    "\n",
    "Structurally, a notebook is a series of _cells_, or a block of input text to process and evaluate and corresponding results. Cells can be of three types:\n",
    "\n",
    "* Code cells - containing Python code to evaluate\n",
    "* Markdown cells - containing markdown text that is converted to HTML\n",
    "* Header cells - used to organize sections of your notebooks with standard H1...H6 header levels.\n",
    "\n",
    "Each notebook corresponds to a *kernel* or code execution session that resides on the server. The notebook is effectively a front-end to that session. The session consists of state (variables you define, query results, and classes or methods that you have defined in code cells). Each code cell is evaluated in the context of that session, consuming and updating the state of the session along the way.\n",
    "\n",
    "Typically cells are executed in order from top-to-bottom, but the notebook allows you to freely execute cells in any order. You can use cells in both structured fashion, or to evaluate an ad-hoc snippet. Each cell can be modified and re-executed as well.\n",
    "\n",
    "Since execution of cells have side-effects on state in the code execution session, it might be useful to clear all cell output, cleanup any snippets no longer needed, restart the kernel, and then choose to run all cells."
   ]
  },
  {
   "cell_type": "markdown",
   "metadata": {},
   "source": [
    "## Example Cells"
   ]
  },
  {
   "cell_type": "markdown",
   "metadata": {},
   "source": [
    "All of the content you're seeing in this notebook exists in cells. The \"Example Cells\" heading above is itself a header cell, and this text is the rendered result of a markdown cell. You can double click either to see the input version.\n",
    "\n",
    "Below is an example of a code cell (single click to edit, shift+enter to execute):"
   ]
  },
  {
   "cell_type": "code",
   "execution_count": 1,
   "metadata": {
    "collapsed": false
   },
   "outputs": [
    {
     "name": "stdout",
     "output_type": "stream",
     "text": [
      "Hello World! Welcome to Notebooks!\n"
     ]
    }
   ],
   "source": [
    "def greet():\n",
    "    print 'Hello World! Welcome to Notebooks!'\n",
    "    \n",
    "greet()"
   ]
  },
  {
   "cell_type": "markdown",
   "metadata": {},
   "source": [
    "And here's an empty cell, for you to write some python code yourself to execute:"
   ]
  },
  {
   "cell_type": "code",
   "execution_count": null,
   "metadata": {
    "collapsed": false
   },
   "outputs": [],
   "source": []
  },
  {
   "cell_type": "markdown",
   "metadata": {},
   "source": [
    "## Related Links"
   ]
  },
  {
   "cell_type": "markdown",
   "metadata": {},
   "source": [
    "* [IPython Documentation](http://ipython.org/ipython-doc/stable/interactive/tutorial.html)\n",
    "* [Python Tutorial](https://docs.python.org/2/tutorial/)"
   ]
  },
  {
   "cell_type": "markdown",
   "metadata": {},
   "source": [
    "# Cloud Notebooks"
   ]
  },
  {
   "cell_type": "markdown",
   "metadata": {},
   "source": [
    "Notebooks provide an interactive experience for working with [Google Cloud Platform](http://cloud.google.com) APIs, in particular doing data exploration, transformation, analysis and visualization by combining the power of Big Data services such as [BigQuery](https://cloud.google.com/bigquery/) and [Cloud Storage](https://cloud.google.com/storage/) and various python data analysis libraries.\n",
    "\n",
    "The kernel (as described above) that executes code in your notebooks runs on the VM you have provisioned. Similarly the VM also hosts the notebooks front-end that is based on IPython.\n",
    "\n",
    "The notebooks are saved to Google Cloud Storage (look for a bucket named &lt;your-project-id&gt;-notebooks within Google Cloud Storage. This allows you to share your work amongst other members of your cloud project. It also allows you to safely delete (and later recreate) the VM if you'd like to, without loosing your work.\n",
    "\n",
    "The intro folder in the notebooks list contains a number of other notebooks that demonstrate using BigQuery and Cloud Storage along with python data analysis libraries such as [pandas](http://pandas.pydata.org/) and data visualization libraries such as [matplotlib](http://matplotlib.org/). Check them out, or get started with your own notebooks!"
   ]
  },
  {
   "cell_type": "markdown",
   "metadata": {},
   "source": [
    "## Feedback"
   ]
  },
  {
   "cell_type": "markdown",
   "metadata": {},
   "source": [
    "This is an early alpha version of the big data tools and development experience we're bringing to the Google Cloud Platform. We appreciate you trying out the tools. We welcome any feedback, comments, suggestions as well as questions. You can reach us at via [email](mailto:datalab-feedback@google.com?subject=IPython+Feedback)."
   ]
  }
 ],
 "metadata": {
  "kernelspec": {
   "display_name": "Python 2",
   "language": "python",
   "name": "python2"
  },
  "language_info": {
   "codemirror_mode": {
    "name": "ipython",
    "version": 2
   },
   "file_extension": ".py",
   "mimetype": "text/x-python",
   "name": "python",
   "nbconvert_exporter": "python",
   "pygments_lexer": "ipython2",
   "version": "2.7.9"
  }
 },
 "nbformat": 4,
 "nbformat_minor": 0
}
