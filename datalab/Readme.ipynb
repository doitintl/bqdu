{
 "cells": [
  {
   "cell_type": "markdown",
   "metadata": {},
   "source": [
    "# Guide to Google Cloud Datalab"
   ]
  },
  {
   "cell_type": "markdown",
   "metadata": {},
   "source": [
    "Thanks for using [Datalab](https://cloud.google.com/datalab)!\n",
    "\n",
    "This notebook serves as your guide to the documentation, and samples that accompany Datalab, to describe how you can use interactive notebooks, Python, and SQL to explore, visualize, analyze and transform your data within [Google Cloud Platform](https://cloud.google.com).\n",
    "\n",
    "As an aside, you'll notice that all of this content is itself distributed in the form of notebooks - very much like the ones you can use for your own tasks, turning your work with data iterative, self-documenting and shareable."
   ]
  },
  {
   "cell_type": "markdown",
   "metadata": {},
   "source": [
    "## Documentation Outline"
   ]
  },
  {
   "cell_type": "markdown",
   "metadata": {},
   "source": [
    "### Introductory Content\n",
    "\n",
    "Please browse through these for a basic orientation and know-how about Datalab and how it works.\n",
    "\n",
    "* [**Introduction to Notebooks**](intro/Introduction to Notebooks.ipynb) - introduces the interactive notebook metaphor and especially, how it manifests in the Datalab environment.\n",
    "\n",
    "\n",
    "* [**Introduction to Python**](intro/Introduction to Python.ipynb) - Python is essential to working within Datalab. This provides a quick overview of the Python environment, as well as links to online in-depth language tutorials if you're new to Python.\n",
    "\n",
    "\n",
    "* [**Working with Datalab**](intro/Working with Datalab.ipynb) - This describes a few details of the Datalab environment, how the Datalab workspace is configured, and important details about authorization and source control."
   ]
  },
  {
   "cell_type": "markdown",
   "metadata": {},
   "source": [
    "### Tutorials\n",
    "\n",
    "This set of notebooks describes using the product and its set of features, including the tools and Python APIs that you can use within notebooks.\n",
    "\n",
    "** BigQuery **\n",
    "\n",
    "* [**Hello BigQuery**](tutorials/BigQuery/Hello BigQuery.ipynb) - Google Cloud Datalab puts BigQuery at your fingertips. For the most basic example, start here.\n",
    "\n",
    "[TODO - Some more]"
   ]
  },
  {
   "cell_type": "markdown",
   "metadata": {},
   "source": [
    "### Samples\n",
    "\n",
    "This set of notebooks build on the techniques and concepts illustrated in the documentation and puts them to practice.\n",
    "\n",
    "* [**Anomaly Detection in HTTP Logs**](samples/Anomaly Detection in HTTP Logs) - demonstrates using SQL to convert raw HTTP logs stored in BigQuery into a time-series that can be used for detecting anomalies in a web application.\n",
    "\n",
    "[TODO - Some more]"
   ]
  },
  {
   "cell_type": "code",
   "execution_count": null,
   "metadata": {
    "collapsed": true
   },
   "outputs": [],
   "source": []
  }
 ],
 "metadata": {
  "kernelspec": {
   "display_name": "Python 2",
   "language": "python",
   "name": "python2"
  },
  "language_info": {
   "codemirror_mode": {
    "name": "ipython",
    "version": 2
   },
   "file_extension": ".py",
   "mimetype": "text/x-python",
   "name": "python",
   "nbconvert_exporter": "python",
   "pygments_lexer": "ipython2",
   "version": "2.7.9"
  }
 },
 "nbformat": 4,
 "nbformat_minor": 0
}
